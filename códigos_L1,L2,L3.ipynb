{
  "nbformat": 4,
  "nbformat_minor": 0,
  "metadata": {
    "colab": {
      "name": "códigos-L1,L2,L3",
      "provenance": [],
      "authorship_tag": "ABX9TyO6zHqPxUEtdPwF27P9PDQp",
      "include_colab_link": true
    },
    "kernelspec": {
      "name": "python3",
      "display_name": "Python 3"
    },
    "language_info": {
      "name": "python"
    }
  },
  "cells": [
    {
      "cell_type": "markdown",
      "metadata": {
        "id": "view-in-github",
        "colab_type": "text"
      },
      "source": [
        "<a href=\"https://colab.research.google.com/github/MatheusdcN/repositorioSI/blob/main/c%C3%B3digos_L1%2CL2%2CL3.ipynb\" target=\"_parent\"><img src=\"https://colab.research.google.com/assets/colab-badge.svg\" alt=\"Open In Colab\"/></a>"
      ]
    },
    {
      "cell_type": "markdown",
      "source": [
        "LISTA 1:"
      ],
      "metadata": {
        "id": "n9lqiH60A4-I"
      }
    },
    {
      "cell_type": "code",
      "execution_count": null,
      "metadata": {
        "id": "DLnmcIBxga_i"
      },
      "outputs": [],
      "source": [
        "#L1-Q5:\n",
        "n = input('digite seu nome: ')\n",
        "print('olá', n)"
      ]
    },
    {
      "cell_type": "code",
      "source": [
        "#L1-Q6:\n",
        "x = int (input('declare um número: '))\n",
        "y = int (input('declare outro número: '))\n",
        "\n",
        "if x>y:\n",
        " print('{} é maior'.format(x))\n",
        "else:\n",
        "   print('{} é maior'.format(y))"
      ],
      "metadata": {
        "id": "cknHoYvThmEx"
      },
      "execution_count": null,
      "outputs": []
    },
    {
      "cell_type": "code",
      "source": [
        "#L1-Q7:\n",
        "x = int (input('declare um número: '))\n",
        "y = int (input('declare outro número: '))\n",
        "\n",
        "if x>y:\n",
        " print('{} é menor'.format(y))\n",
        "else:\n",
        "   print('{} é menor'.format(x))"
      ],
      "metadata": {
        "id": "0Oio4hVBh9Vn"
      },
      "execution_count": null,
      "outputs": []
    },
    {
      "cell_type": "code",
      "source": [
        "#L1-Q8:\n",
        "x = int(input('declare um número: '))\n",
        "divisão = x / 2\n",
        "if divisão % 1:\n",
        "  print ('Este número é ímpar')\n",
        "else:\n",
        "  print ('este número é par')"
      ],
      "metadata": {
        "colab": {
          "base_uri": "https://localhost:8080/"
        },
        "id": "vOd-hKaWiBR6",
        "outputId": "6c5152cc-f04d-4328-ac50-8ebbf1efbc74"
      },
      "execution_count": null,
      "outputs": [
        {
          "output_type": "stream",
          "name": "stdout",
          "text": [
            "declare um número: 3\n",
            "Este número é ímpar\n"
          ]
        }
      ]
    },
    {
      "cell_type": "code",
      "source": [
        "#L1-Q9:\n",
        "a = int(input('Declare um valor: '))\n",
        "b = int(input('Declare outro valor: '))\n",
        "soma = (a + b)\n",
        "sub = (a - b)\n",
        "mult = (a * b)\n",
        "\n",
        "\n",
        "\n",
        "if b == 0:\n",
        " print('valor da soma:{}'.format(soma))\n",
        " print('valor da subtração:{}'.format(sub))\n",
        " print('valor da multiplicação:{}'.format(mult))\n",
        " print('divisão impossível')\n",
        "else:\n",
        " div = (a / b)\n",
        " print('valor da soma:{}'.format(soma))\n",
        " print('valor da subtração:{}'.format(sub))\n",
        " print('valor da multiplicação:{}'.format(mult))\n",
        " print('valor da divisão:{}'.format(div))"
      ],
      "metadata": {
        "colab": {
          "base_uri": "https://localhost:8080/"
        },
        "id": "E1Hd7PmViBlL",
        "outputId": "6a0a2aa7-3166-4bbd-e66e-b101e166b489"
      },
      "execution_count": null,
      "outputs": [
        {
          "output_type": "stream",
          "name": "stdout",
          "text": [
            "Declare um valor: 50\n",
            "Declare outro valor: 10\n",
            "valor da soma:60\n",
            "valor da subtração:40\n",
            "valor da multiplicação:500\n",
            "valor da divisão:5.0\n"
          ]
        }
      ]
    },
    {
      "cell_type": "code",
      "source": [
        "#L1-Q10:\n",
        "a = int(input('Declare um valor: '))\n",
        "b = int(input('Declare outro valor: '))\n",
        "\n",
        "if a>b:\n",
        " soma = (a + b)\n",
        " sub = (a - b)\n",
        " mult = (a * b)\n",
        "\n",
        "\n",
        " if b == 0:\n",
        "  print('valor da soma:{}'.format(soma))\n",
        "  print('valor da subtração:{}'.format(sub))\n",
        "  print('valor da multiplicação:{}'.format(mult))\n",
        "  print('divisão impossível') \n",
        " \n",
        " else:\n",
        "  div = (a / b)\n",
        "  print('valor da soma:{}'.format(soma))\n",
        "  print('valor da subtração:{}'.format(sub))\n",
        "  print('valor da multiplicação:{}'.format(mult))\n",
        "  print('valor da divisão:{}'.format(div))\n",
        "  \n",
        "\n",
        "if b>a:\n",
        " soma = (b + a)\n",
        " sub = (b - a)\n",
        " mult = (b * a)\n",
        "\n",
        "\n",
        " if a == 0:\n",
        "  print('valor da soma:{}'.format(soma))\n",
        "  print('valor da subtração:{}'.format(sub))\n",
        "  print('valor da multiplicação:{}'.format(mult))\n",
        "  print('divisão impossível') \n",
        "\n",
        " else:\n",
        "  div = (a / b)\n",
        "  print('valor da soma:{}'.format(soma))\n",
        "  print('valor da subtração:{}'.format(sub))\n",
        "  print('valor da multiplicação:{}'.format(mult))\n",
        "  print('valor da divisão:{}'.format(div))\n",
        "\n"
      ],
      "metadata": {
        "id": "Uu9UBmYfiByR"
      },
      "execution_count": null,
      "outputs": []
    },
    {
      "cell_type": "code",
      "source": [
        "#L1-Q11:\n",
        "start = int (0)\n",
        "N = int (input('selecione um número: '))\n",
        "\n",
        "\n",
        "for x in range(start, N+1):\n",
        " print (x)\n",
        "\n",
        "for x in range(N, start):\n",
        " print (x)"
      ],
      "metadata": {
        "id": "1Am9mCXqiCED"
      },
      "execution_count": null,
      "outputs": []
    },
    {
      "cell_type": "code",
      "source": [
        "#L1-Q12:\n",
        "start = int (0)\n",
        "N = int (input('selecione um número: '))\n",
        "\n",
        "while start < N:\n",
        "  start = start + 1\n",
        "  print (start)"
      ],
      "metadata": {
        "id": "TjBqbysAiEzc"
      },
      "execution_count": null,
      "outputs": []
    },
    {
      "cell_type": "code",
      "source": [
        "#L1-Q13:\n",
        "start = int (0)\n",
        "N = int (input('selecione um número: '))\n",
        "\n",
        "while True:\n",
        "   start = start + 1\n",
        "   print (start)\n",
        "   if not start == N:\n",
        "    continue\n",
        "   else:\n",
        "     break "
      ],
      "metadata": {
        "id": "qkTVZRuIiEw0"
      },
      "execution_count": null,
      "outputs": []
    },
    {
      "cell_type": "code",
      "source": [
        "#L1-Q14:\n",
        "a = int(input('Declare um valor: '))\n",
        "b = int(input('Declare outro valor: '))\n",
        "\n",
        "if b>a:\n",
        " for n in range(a, b):\n",
        "  print (n)\n",
        " print (b)\n",
        "elif a>b: \n",
        " for n in range(b, a):\n",
        "  print (n)\n",
        " print (a)"
      ],
      "metadata": {
        "id": "NEMoLvW97dW0"
      },
      "execution_count": null,
      "outputs": []
    },
    {
      "cell_type": "code",
      "source": [
        "#L1-Q15:\n",
        "a = int(input('Declare um valor: '))\n",
        "b = int(input('Declare outro valor: '))\n",
        "\n",
        "if b>a:\n",
        " x = a+1\n",
        " for n in range(x, b):\n",
        "  print(n)\n",
        " \n",
        "elif a>b: \n",
        " x = b+1\n",
        " for n in range(x, a):\n",
        "  print(n)"
      ],
      "metadata": {
        "id": "okO1BdS27hI7"
      },
      "execution_count": null,
      "outputs": []
    },
    {
      "cell_type": "code",
      "source": [
        "#L1-Q16:\n",
        "a = float (input('Primeira nota: '))\n",
        "b = float (input('Segunda nota: '))\n",
        "c = float (input('Terceira nota: ')) \n",
        "media = (a+b+c)/3\n",
        "\n",
        "print ('Sua média é: {}'.format(media))"
      ],
      "metadata": {
        "id": "AJZmGrgl7hGy"
      },
      "execution_count": null,
      "outputs": []
    },
    {
      "cell_type": "code",
      "source": [
        "#L1-Q17:\n",
        "x = int(input('escolha um valor entre 1 e 10: '))\n",
        "\n",
        "\n",
        "if x>=1 and x<=10:\n",
        " for i in range(0,11):  \n",
        "  print(x*i)"
      ],
      "metadata": {
        "id": "W1l7o_fU7hEd"
      },
      "execution_count": null,
      "outputs": []
    },
    {
      "cell_type": "code",
      "source": [
        "#L1-Q18:\n",
        "n = []\n",
        "\n",
        "while True:  \n",
        " x = int (input(''))\n",
        " if x > 0:\n",
        "  n.append(x)\n",
        "  print(n)   \n",
        "  continue\n",
        " \n",
        " elif x <= 0:\n",
        "  print(sum(n))\n",
        "  print(n[0])\n",
        "  break "
      ],
      "metadata": {
        "id": "rW1U8ENI91oQ"
      },
      "execution_count": null,
      "outputs": []
    },
    {
      "cell_type": "code",
      "source": [
        "#L1-Q19:\n",
        "n = []\n",
        "\n",
        "while True:  \n",
        " x = int (input(''))\n",
        " if x > 0:\n",
        "  n.append(x)\n",
        "  print(n)   \n",
        "  continue\n",
        " \n",
        " elif x < 0:\n",
        "  print('valor mínimo: {}'.format(min(n)))\n",
        "  print('valor máximo: {}'.format(max(n)))\n",
        "  break "
      ],
      "metadata": {
        "id": "zQB7c1ua91j-"
      },
      "execution_count": null,
      "outputs": []
    },
    {
      "cell_type": "code",
      "source": [
        "#L1-Q20:\n",
        "nome = input('Nome: ')\n",
        "a = float (input('Primeira nota: '))\n",
        "b = float (input('Segunda nota: '))\n",
        "c = float (input('Terceira nota: ')) \n",
        "d = float (input('Quarta nota: '))\n",
        "media = float ((a+b+c+d)/4)\n",
        "\n",
        "if media >= 6.0:\n",
        "  print('Aprovado.')\n",
        "else:\n",
        "  print('Reprovado.')  "
      ],
      "metadata": {
        "id": "ooVmZKho91eo"
      },
      "execution_count": null,
      "outputs": []
    },
    {
      "cell_type": "code",
      "source": [
        "#L1-Q21:\n",
        "while True:\n",
        " nome = input('Nome: ')\n",
        " a = float (input('Primeira nota: '))\n",
        " b = float (input('Segunda nota: '))\n",
        " c = float (input('Terceira nota: ')) \n",
        " d = float (input('Quarta nota: '))\n",
        " media = float ((a+b+c+d)/4)\n",
        "\n",
        " if media >= 6.0:\n",
        "  print('Aprovado.')\n",
        " else:\n",
        "  print('Reprovado.')  \n",
        " \n",
        " restart = str(input('tentar novamente(S/N)? '))\n",
        " if restart == 'S':\n",
        "   continue\n",
        " elif restart == 'N':\n",
        "   break  "
      ],
      "metadata": {
        "id": "_mdVhTE591Zk"
      },
      "execution_count": null,
      "outputs": []
    },
    {
      "cell_type": "markdown",
      "source": [
        "LISTA 2:"
      ],
      "metadata": {
        "id": "hO4tNPLXAyZK"
      }
    },
    {
      "cell_type": "code",
      "source": [
        "#L2-Q1:\n",
        "n = int(input('escolha um numero: '))\n",
        "p = n - 1\n",
        "\n",
        "while (p > 0):\n",
        "  n = n*p\n",
        "  p = p -1 \n",
        "  if (p == 1):\n",
        "    print(n)"
      ],
      "metadata": {
        "id": "orlyZ2KY91Va"
      },
      "execution_count": null,
      "outputs": []
    },
    {
      "cell_type": "code",
      "source": [
        "#L2-Q2:\n",
        "x1 = float(input('Digite o ponto x1:'))\n",
        "x2 = float(input('Digite o ponto x2:'))\n",
        "\n",
        "y1 = float(input('Digite o ponto y1:'))\n",
        "y2 = float(input('Digite o ponto y2:'))\n",
        "\n",
        "dxy = ((x2-x1)**2) + ((y2-y1)**2)\n",
        "print(dxy)"
      ],
      "metadata": {
        "id": "2SVBQrWmDVHL"
      },
      "execution_count": null,
      "outputs": []
    },
    {
      "cell_type": "code",
      "source": [
        "#L2-Q3:\n",
        "a1 = int(input('escolha o primeiro número: '))\n",
        "a2 = int(input('escolha o segundo número: ')) \n",
        "r = int((a2-a1)/(2-1))\n",
        "\n",
        "for i in range(a1, (100+r), (r)):\n",
        "  print(i)\n",
        "print('a razão da Pa é: ', r)"
      ],
      "metadata": {
        "id": "lkhnQUV7DVCz"
      },
      "execution_count": null,
      "outputs": []
    },
    {
      "cell_type": "code",
      "source": [
        "#L2-Q4:\n",
        "c = float(input('digite a temperatura em  graus Celsius: '))\n",
        "f = (c/5)*9+32\n",
        "\n",
        "print(f)"
      ],
      "metadata": {
        "id": "y6Rjy7A9DU2S"
      },
      "execution_count": null,
      "outputs": []
    },
    {
      "cell_type": "code",
      "source": [
        "#L2-Q5:\n",
        "c = float(input('digite o comprimento: '))\n",
        "l = float(input('digite a largura: ')) \n",
        "h = float(input('digite a altura: '))\n",
        "\n",
        "p1 = float(2*(c*h)/1.5)\n",
        "p2 = float(2*(c*h)/1.5)\n",
        "qt = float(p1 + p2)\n",
        "print(qt)"
      ],
      "metadata": {
        "id": "Bd7nGriUDUxU"
      },
      "execution_count": null,
      "outputs": []
    },
    {
      "cell_type": "code",
      "source": [
        "#L2-Q6:\n",
        "start = float(input('valor inicial(km): '))\n",
        "end = float(input('valor final(km): '))\n",
        "lg = float(input('litros gastos: '))\n",
        "vr = float(input('valor recebido: '))\n",
        "\n",
        "media = float((end-start)/lg)  \n",
        "print('media de consumo:',media) \n",
        "\n",
        "vl = lg*2.75\n",
        "print('gasto em gasolina: ', vl)\n",
        "\n",
        "ll = vr - vl\n",
        "print('lucro: ', ll)"
      ],
      "metadata": {
        "id": "Aqv4w9o4DUpb"
      },
      "execution_count": null,
      "outputs": []
    },
    {
      "cell_type": "code",
      "source": [
        "#L2-Q7:\n",
        "qm = int(input('digite a quantidade de maçãs: '))\n",
        "\n",
        "if qm < 12:\n",
        "  vm = qm*0.45\n",
        "  print('valor da compra: R$', vm)\n",
        "elif qm >= 12:\n",
        "  vm = qm*0.36 \n",
        "  print('valor da compra: R$',vm)"
      ],
      "metadata": {
        "id": "ARulAUj2DUjU"
      },
      "execution_count": null,
      "outputs": []
    },
    {
      "cell_type": "code",
      "source": [
        "#L2-Q8:\n",
        "h = float(input('digite sua altura: '))\n",
        "s = str(input('digite seu sexo(M para masculino, F para feminino): '))\n",
        "\n",
        "\n",
        "if s == 'M':\n",
        "  i = (72.7*h)-58\n",
        "  print(i)\n",
        "elif s == 'F':\n",
        "  i = (62.1*h)-44.7\n",
        "  print(i)"
      ],
      "metadata": {
        "id": "1hikbKufDUbb"
      },
      "execution_count": null,
      "outputs": []
    },
    {
      "cell_type": "code",
      "source": [
        "#L2-Q9:\n",
        "n = 1\n",
        "while n > 0: \n",
        "  n = int(input('digite um numero: '))\n",
        "  if n <= 100:\n",
        "    contador = contador + 1\n",
        "    print('numeros digitados: ', contador)"
      ],
      "metadata": {
        "id": "Pn4ALItGER8H"
      },
      "execution_count": null,
      "outputs": []
    },
    {
      "cell_type": "code",
      "source": [
        "#L2-Q10:\n",
        "nome = str([])\n",
        "contador = 0\n",
        "\n",
        "while nome[contador] != '\\0':\n",
        "  if nome[contador] == ' ':\n",
        "    if nome[contador + 1] >= 'A' and < 'Z':\n",
        "      nome[contador] + nome[contador] – (‘a’ – ‘A’)\n",
        "  contador = contador + 1"
      ],
      "metadata": {
        "id": "Vv-mb-dIER1c"
      },
      "execution_count": null,
      "outputs": []
    },
    {
      "cell_type": "markdown",
      "source": [
        "LISTA 3:"
      ],
      "metadata": {
        "id": "cVec2gFsFnAJ"
      }
    },
    {
      "cell_type": "code",
      "source": [
        "#L3-Q1:\n",
        "a = float(input(' '))\n",
        "b = float(input(' '))\n",
        "c = float(input(' '))\n",
        "continuar = str(0)\n",
        "while True:\n",
        "  \n",
        "  D = (b**2 - 4*a*c)\n",
        "  x1 = (-b + D**(1/2)) / (2*a)\n",
        "  x2 = (-b - D**(1/2)) / (2*a)\n",
        "\n",
        "  print('Valor de x1: {0}'.format(x1))  \n",
        "  print('Valor de x2: {0}'.format(x2))\n",
        "  continuar = input('s para sair: ')\n",
        "  if (continuar == 's' or 'S'):\n",
        "    break"
      ],
      "metadata": {
        "id": "vpH937X-Fho9"
      },
      "execution_count": null,
      "outputs": []
    },
    {
      "cell_type": "code",
      "source": [
        "#L3-Q2:\n",
        "c = input('escolha um caractere: ')\n",
        "h = int(input('escolha uma altura entre 6 e 24: ')) \n",
        "\n",
        "\n",
        "if(6 <= h <= 24): \n",
        "  \n",
        "  def arvore(c,h):\n",
        "    h = (h*2) - 5\n",
        "    for T in range(1, h, 2):\n",
        "      print((c*T).center(h))\n",
        "    for t in range(2):\n",
        "      print((c).center(h))\n",
        "    print((c*5).center(h)) \n",
        "  \n",
        "  arvore(c, h)"
      ],
      "metadata": {
        "id": "axTWn9dlFuzx"
      },
      "execution_count": null,
      "outputs": []
    },
    {
      "cell_type": "code",
      "source": [
        "#L3-Q3:\n",
        "f = ['somar', 'subtrair', 'multiplicar', 'dividir']\n",
        "n1 = 0 \n",
        "n2 = 1\n",
        "l = len(f)\n",
        "\n",
        "while n1 < l:\n",
        "  for i in range(n1, l): \n",
        "    print(n2, '-', f[n1])\n",
        "    n1 = n1+1\n",
        "    n2 = n2+1\n",
        "  print('S - sair')\n",
        "\n",
        "resposta = str(input('digite: '))\n",
        "if resposta == '1':\n",
        "  contador = f[0]\n",
        "  print('função selecionada: ', contador)\n",
        "\n",
        "if resposta == '2':\n",
        "  contador = f[1]\n",
        "  print('função selecionada: ', contador)\n",
        "\n",
        "if resposta == '3':\n",
        "  contador = f[2]\n",
        "  print('função selecionada: ', contador)\n",
        "\n",
        "if resposta == '4':\n",
        "  contador = f[3]\n",
        "  print('função selecionada: ', contador)\n",
        "\n",
        "if resposta == 's':\n",
        "  print('função selecionada: sair')\n"
      ],
      "metadata": {
        "id": "pghdnmxtFuxa"
      },
      "execution_count": null,
      "outputs": []
    },
    {
      "cell_type": "code",
      "source": [
        "#L3-Q4:\n",
        "km = 1\n",
        "l = 0\n",
        "\n",
        "while km > 0:\n",
        " km = float(input('quilômetros rodados: '))\n",
        " l = float(input('litros gastos: '))\n",
        " media = km/l\n",
        " print(media)"
      ],
      "metadata": {
        "id": "OwX3qIL4Fuu1"
      },
      "execution_count": null,
      "outputs": []
    },
    {
      "cell_type": "code",
      "source": [
        "#L3-Q5:\n",
        "alfabeto = str('abcdefghijklmnopqrstuvwxyz')\n",
        "frase = str(input('digite uma frase: '))\n",
        "salto = int(input('escolha o salto: '))\n",
        "c = 0\n",
        "c1 = 0\n",
        "while frase[c] != '\\0':\n",
        "  if frase[c] >= '65' and frase <= '90':\n",
        "    frase[c] = frase[c] + ('a' - 'A')\n",
        "  c1 = frase[c]\n",
        "  print(c1)\n",
        "  print(alfabeto[c1])\n",
        "  frase[c] = alfabeto[c1] + salto\n",
        "  c = c + 1\n",
        "\n",
        "print(frase)"
      ],
      "metadata": {
        "id": "P1Oe3I6ZFusd"
      },
      "execution_count": null,
      "outputs": []
    },
    {
      "cell_type": "code",
      "source": [
        "#L3-Q6:\n",
        "binario = [0, 0, 0, 0, 0, 0, 0, 0]\n",
        "numero = int(input('escolha o número: '))\n",
        "c = 7\n",
        "while numero >= 2:\n",
        "  r = int((numero%2))\n",
        "  numero = numero/2\n",
        "  binario[c] = r\n",
        "  c = c-1\n",
        "  \n",
        "binario[c] = 1\n",
        "\n",
        "print(binario)\n",
        "\n"
      ],
      "metadata": {
        "id": "XETjC72_FupR"
      },
      "execution_count": null,
      "outputs": []
    },
    {
      "cell_type": "code",
      "source": [
        "#L3-Q7:\n",
        "binario = str(input('digite o número em binário: '))\n",
        "decimal = [0, 0, 0, 0, 0, 0, 0, 0, 0]\n",
        "c = 0\n",
        "n = len(binario) -1\n",
        "\n",
        "while c != len(binario):\n",
        "  if n >= 0:\n",
        "    if binario[c] == '0':\n",
        "      v = 0*(2**n)\n",
        "      decimal[c] = v\n",
        "    elif binario[c] == '1':\n",
        "      v = 1*(2**n)\n",
        "      decimal[c] = v\n",
        "  c = c+1\n",
        "  n = n-1\n",
        "\n",
        "print('o número em decimal é:', sum(decimal))\n"
      ],
      "metadata": {
        "id": "OxrxUCyjFumn"
      },
      "execution_count": null,
      "outputs": []
    },
    {
      "cell_type": "code",
      "source": [
        "#L3-Q8:\n",
        "\n",
        "v1 = []\n",
        "v2 = []\n",
        "vr = []\n",
        "c = 0\n",
        "\n",
        "n1 = 1\n",
        "while n1 > 0:\n",
        "  n1 = float(input(''))\n",
        "  v1.append(n1)\n",
        "\n",
        "n2 = 1\n",
        "while n2 > 0:\n",
        "  n2 = float(input(''))\n",
        "  v2.append(n2)\n",
        "\n",
        "print(v1)\n",
        "print(v2)\n",
        "\n",
        "\n",
        "if len(v1) == len(v2):\n",
        "  while ct <= len(v1):\n",
        "    r = v1[ct] + v2[ct]\n",
        "    print(r)\n",
        "    vr.append(r)\n",
        "    c = c + 1"
      ],
      "metadata": {
        "id": "uBvDXFlqFujW"
      },
      "execution_count": null,
      "outputs": []
    },
    {
      "cell_type": "code",
      "source": [
        "#L3-Q9:\n",
        "salario = float(input('digite seu salário: '))\n",
        "reajuste = 0\n",
        "\n",
        "if salario <= 2000:\n",
        "  reajuste = salario + salario*(1/2)\n",
        "  print(reajuste)\n",
        "\n",
        "elif salario > 2000 and salario <= 5000:\n",
        "  reajuste = salario + salario*(2/5)\n",
        "  print(reajuste)\n",
        "\n",
        "elif salario > 5000 and salario <= 7000:\n",
        "  reajuste = salario + salario*(1/5)\n",
        "  print(reajuste)\n",
        "\n",
        "elif salario > 7000 :\n",
        "  reajuste = salario + salario*(1/10)\n",
        "  print(reajuste)"
      ],
      "metadata": {
        "id": "2ySkdsS1Fugd"
      },
      "execution_count": null,
      "outputs": []
    },
    {
      "cell_type": "code",
      "source": [
        "#L3-Q10:\n",
        "quantidade = 0\n",
        "item = int(1)\n",
        "lista = []\n",
        "vt = float(0)\n",
        "while item > 0:\n",
        "  item = int(input('digite o código do item: '))\n",
        "\n",
        "  if item == 100:\n",
        "    quantidade = int(input('digite a quantidade:'))\n",
        "    lista.append('misto quente*{} '.format(quantidade))\n",
        "    v = 4.50*quantidade\n",
        "    vt = float(vt + v)\n",
        "  \n",
        "      \n",
        "  if item == 101:\n",
        "    quantidade = int(input('digite a quantidade: '))\n",
        "    lista.append('refrigerante*{}'.format(quantidade))\n",
        "    v = 5.0*quantidade\n",
        "    vt = float(vt + v)\n",
        "\n",
        "  if item == 102:\n",
        "    quantidade = int(input('digite a quantidade: '))\n",
        "    lista.append('pão de queijo*{}'.format(quantidade))\n",
        "    v = 2.0*quantidade\n",
        "    vt = float(vt + v)\n",
        "\n",
        "  if item == 103:\n",
        "    quantidade = int(input('digite a quantidade: '))\n",
        "    lista.append('suco*{}'.format(quantidade))\n",
        "    v = 6.0*quantidade\n",
        "    vt = float(vt + v)\n",
        "\n",
        "\n",
        "print('seu pedido foi: ', lista)\n",
        "print('o valor a ser pago é: R$', vt)\n"
      ],
      "metadata": {
        "id": "7VlAG0QvFudF"
      },
      "execution_count": null,
      "outputs": []
    }
  ]
}