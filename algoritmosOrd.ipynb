{
  "nbformat": 4,
  "nbformat_minor": 0,
  "metadata": {
    "colab": {
      "name": "algoritmosOrd.ipynb",
      "provenance": [],
      "authorship_tag": "ABX9TyPVCc0aivL8sbVa0j1ryL0u",
      "include_colab_link": true
    },
    "kernelspec": {
      "name": "python3",
      "display_name": "Python 3"
    },
    "language_info": {
      "name": "python"
    }
  },
  "cells": [
    {
      "cell_type": "markdown",
      "metadata": {
        "id": "view-in-github",
        "colab_type": "text"
      },
      "source": [
        "<a href=\"https://colab.research.google.com/github/MatheusdcN/repositorioSI/blob/main/algoritmosOrd.ipynb\" target=\"_parent\"><img src=\"https://colab.research.google.com/assets/colab-badge.svg\" alt=\"Open In Colab\"/></a>"
      ]
    },
    {
      "cell_type": "code",
      "metadata": {
        "id": "MRPiUL8Cpkvz"
      },
      "source": [
        "#Bubble sort\n",
        "\n",
        "vetor = [7,6,1,8,3]\n",
        "tmp = 0\n",
        "c = int(0)\n",
        "\n",
        "\n",
        "for c in range(0, 5):\n",
        "  for i in range(0, (c)):\n",
        "    for j in range((i+1), 5):\n",
        "      n1 = int(vetor[i])\n",
        "      n2 = int(vetor[j])\n",
        "      if (n1 > n2):\n",
        "        tmp = vetor[i]\n",
        "        vetor[i] = vetor[j]\n",
        "        vetor[j] = tmp \n",
        "  c = c + 1\n",
        "  print(vetor)"
      ],
      "execution_count": null,
      "outputs": []
    },
    {
      "cell_type": "code",
      "source": [
        "#Select sort\n",
        "\n",
        "vetor = [1,3,2,5,4]\n",
        "c = 0\n",
        "a = c+1\n",
        "\n",
        "\n",
        "for c in range(0, 5):\n",
        "  min = vetor[c]\n",
        "  for i in range(a, 5):\n",
        "    n1 = i\n",
        "    n2 = min\n",
        "    if n1 < n2:\n",
        "      min = i\n",
        "  c = c+1\n",
        "  print(vetor)"
      ],
      "metadata": {
        "id": "vCcwIk6S-Jlh"
      },
      "execution_count": null,
      "outputs": []
    }
  ]
}